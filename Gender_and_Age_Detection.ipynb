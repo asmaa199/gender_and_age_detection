{
  "nbformat": 4,
  "nbformat_minor": 0,
  "metadata": {
    "colab": {
      "name": "Gender and Age Detection.ipynb",
      "provenance": [],
      "authorship_tag": "ABX9TyOvlA6gfjiBKjZ5dx01rqRM",
      "include_colab_link": true
    },
    "kernelspec": {
      "name": "python3",
      "display_name": "Python 3"
    },
    "language_info": {
      "name": "python"
    }
  },
  "cells": [
    {
      "cell_type": "markdown",
      "metadata": {
        "id": "view-in-github",
        "colab_type": "text"
      },
      "source": [
        "<a href=\"https://colab.research.google.com/github/asmaa199/gender_and_age_detection/blob/main/Gender_and_Age_Detection.ipynb\" target=\"_parent\"><img src=\"https://colab.research.google.com/assets/colab-badge.svg\" alt=\"Open In Colab\"/></a>"
      ]
    },
    {
      "cell_type": "code",
      "source": [
        "import cv2, math, argparse"
      ],
      "metadata": {
        "id": "fM9aiRkXjimw"
      },
      "execution_count": 4,
      "outputs": []
    },
    {
      "cell_type": "code",
      "source": [
        "def highlightFace(net, frame, conf_threshold=0.7):\n",
        "  frameOpencvDnn=frame.copy()\n",
        "  frameHeight=frameOpencvDnn.shape[0]\n",
        "  frameWidth=frameOpencvDnn.shape[1]\n",
        "  blob=cv2.dnn.blobFromImage(frameOpencvDnn, 1.0, (300,300), [104, 117, 123], True, False)\n",
        "\n",
        "  net.setInput(blob)\n",
        "  detections=net.forward()\n",
        "  faceBoxes=[]\n",
        "  for i in range(detections.shape[2]):\n",
        "    confidence=detections[0,0,i,2]\n",
        "    if confidence>conf_threshold:\n",
        "      x1=int(detections[0,0,i,3]*frameWidth)\n",
        "      y1=int(detections[0,0,i,4]*frameHeight)\n",
        "      x2=int(detections[0,0,i,5]*frameWidth)\n",
        "      y2=int(detections[0,0,i,6]*frameHeight)\n",
        "      faceBoxes.append([x1,y1,x2,y2])\n",
        "      cv2.rectangle(frameOpencvDnn, (x1,y1), (x2,y2), (0,255,0), int(round(frameHeight/150)), 8)\n",
        "  return frameOpencvDnn, faceBoxes\n",
        "\n",
        "  parser=argparse.ArgumentParser()\n",
        "  parser.add_argument('--image')\n",
        "\n",
        "\n",
        "  args=parser.parse_args()\n",
        "\n",
        "  faceProto=\"opencv_face_detector.pbtxt\"\n",
        "  faceModel=\"opencv_face_detector_uint8.pb\"\n",
        "  ageProto=\"age_deploy.prototxt\"\n",
        "  ageModel=\"age_net.caffemodel\"\n",
        "  genderProto=\"gender_deploy.prototxt\"\n",
        "  genderModel=\"gender_net.caffemodel\"\n",
        "\n",
        "  MODEL_MEAN_VALUES=(78.4263377603, 87.7689143744, 114.895847746)\n",
        "  ageList=['(0-2)', '(4-6)', '(8-12)', '(15-20)', '(25-32)', '(38-43)', '(48-53)', '(60-100)']\n",
        "  genderList=['Male', 'Female']\n",
        "\n",
        "\n",
        "  faceNet=cv2.dnn.readNet(faceModel,faceProto)\n",
        "  ageNet=cv2.dnn.readNet(ageModel,ageProto)\n",
        "  genderNet=cv2.dnn.readNet(genderModel,genderProto)\n",
        "\n",
        "\n",
        "  video=cv2.VideoCapture(args.image if args.image else 0)\n",
        "  padding=20\n",
        "\n",
        "\n",
        "  while cv2.waitKey(1)<0 :\n",
        "    hasFrame,frame=video.read()\n",
        "    if not hasFrame:\n",
        "      cv2.waitKey()\n",
        "      break\n",
        "\n",
        "    resulting,faceBoxes=highlightFace(faceNet,frame)\n",
        "    if not faceBoxes:\n",
        "      print(\"No face detected\")\n",
        "\n",
        "    for faceBox in faceBoxes:\n",
        "      face=frame[max(0, faceB0x[1-padding]):\n",
        "                min(faceBox[3]+padding,frame.shape[0]-1), max(0,faceBox[0]-padding):\n",
        "                min(faceBox[2]+padding, frame.shape[1]-1)]\n",
        "\n",
        "      blob=cv2.dnn.blobFr(face, 1.0, (277,277), MODEL_MEAN_VALUES, swapRB=False)\n",
        "      genderNet.setInput(blob)\n",
        "      genderPreds=genderNat.forward()\n",
        "      gender=genderList[genderPreds[0].argmax()]\n",
        "      print(f'Gender: {gender}')\n",
        "\n",
        "\n",
        "      ageNet.setInput(blob)\n",
        "      agePreds=ageNet.forward()\n",
        "      age-ageList[agePreds[0].argmax()]\n",
        "      print(f'Age: {age}')\n",
        "\n",
        "      cv2.putText(resulting, f'{gender}, {age}', (faceBox[0], faceBox[1]-10),\n",
        "                  cv2.FONT_HERSHEY_SIMPLEX, 0.8, (0,255,255), 2, cv2.LINE_AA)\n",
        "      cv2.imshow(\"Detection age and gender\", resulting)"
      ],
      "metadata": {
        "id": "5YWF5J03j9AK"
      },
      "execution_count": 6,
      "outputs": []
    }
  ]
}